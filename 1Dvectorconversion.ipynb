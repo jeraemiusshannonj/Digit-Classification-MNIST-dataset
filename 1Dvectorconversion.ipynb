y_train = keras.utils.to_categorical(y_train,num_classes)
y_test= keras.utils.to_categorical(y_test,num_classes)

#this shows how it is categorized into vector format
for i in range(10):
  print(y_train[i])
