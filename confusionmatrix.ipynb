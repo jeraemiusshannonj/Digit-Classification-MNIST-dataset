confusion_mtx=confusion_matrix(y_true,y_pred_classes)
fig,ax=plt.subplots(figsize=(15,16))
ax=sns.heatmap(confusion_mtx,annot=True,fmt='d',ax=ax,cmap="Blues")
ax.set_xlabel('Predicted Label')
ax.set_ylabel('True Label')
ax.set_title('Confusion Matrix');
