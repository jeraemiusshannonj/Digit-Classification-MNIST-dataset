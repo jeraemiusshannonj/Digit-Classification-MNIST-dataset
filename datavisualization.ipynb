num_classes=10
f,ax = plt.subplots(1,num_classes,figsize=(20,20))

for i in range(0,num_classes):
  sample=x_train[y_train==i][0]
  ax[i].imshow(sample,cmap='gray')
  ax[i].set_title("Label: ()".format(i),fontsize=16)
