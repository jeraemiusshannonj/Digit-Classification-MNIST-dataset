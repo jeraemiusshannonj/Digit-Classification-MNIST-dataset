errors=(y_pred_classes - y_true!=0)
y_pred_classes_errors=y_pred_classes[errors]
y_pred_errors=y_pred[errors]
y_true_errors=y_true[errors]
x_test_errors=x_test[errors]
y_pred_errors_probability=np.max(y_pred_errors,axis=1)
true_probability_errors=np.diagonal(np.take(y_pred_errors,y_true_errors,axis=1 ))
diff_errors_pred_true=y_pred_errors_probability-true_probability_errors
#Get the list of indices of sorted differences
sorted_idx_diff_errors=np.argsort(diff_errors_pred_true)
top_idx_diff_errors=sorted_idx_diff_errors[-5:]
num=len(top_idx_diff_errors)
f,ax=plt.subplots(1,num,figsize=(30,30))

for i in range(0,num):
  idx=top_idx_diff_errors[i]
  sample=x_test_errors[idx].reshape(28,28)
  y_t=y_true_errors[idx]
  y_p=y_pred_classes_errors[idx]
  ax[i].imshow(sample,cmap='gray')
  ax[i].set_title('Predicted label :{}\nTrue label: {}'.format(y_p,y_t),fontsize=22)
